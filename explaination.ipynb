{
 "cells": [
  {
   "cell_type": "markdown",
   "id": "c8ed3041",
   "metadata": {},
   "source": [
    "# Music Store Data Analysis Overview\n",
    "This notebook demonstrates a step-by-step analysis of a music store's sales data to answer key business questions. The workflow includes:\n",
    "\n",
    "1. **Data Ingestion**: Loading CSV files containing customer, invoice, invoice line, genre, and track data into pandas DataFrames.\n",
    "2. **Data Cleaning**: Standardizing all column names to snake_case and ensuring consistent naming for ID fields (e.g., `customer_id`).\n",
    "3. **Data Integration**: Merging tables to create a unified view for analysis, resolving column name conflicts (e.g., both genre and track have a `name` column).\n",
    "4. **Business Insights**: Calculating metrics such as:\n",
    "   - Country with the most customers\n",
    "   - Top-spending customer\n",
    "   - Revenue by music genre\n",
    "   - Average transaction value per customer\n",
    "   - Total revenue per year\n",
    "\n",
    "Each step is documented and the code is modular for clarity and reproducibility."
   ]
  },
  {
   "cell_type": "code",
   "execution_count": 9,
   "id": "6eff298b",
   "metadata": {},
   "outputs": [],
   "source": [
    "import pandas as pd\n",
    "import os\n",
    "\n",
    "# Set data directory\n",
    "DATA_DIR = 'music store data'\n",
    "\n",
    "# Load CSV files\n",
    "customer_df = pd.read_csv(os.path.join(DATA_DIR, 'customer.csv'))\n",
    "invoice_df = pd.read_csv(os.path.join(DATA_DIR, 'invoice.csv'))\n",
    "invoice_line_df = pd.read_csv(os.path.join(DATA_DIR, 'invoice_line.csv'))\n",
    "genre_df = pd.read_csv(os.path.join(DATA_DIR, 'genre.csv'))\n",
    "track_df = pd.read_csv(os.path.join(DATA_DIR, 'track.csv'))"
   ]
  },
  {
   "cell_type": "markdown",
   "id": "659ae0a2",
   "metadata": {},
   "source": [
    "## 1. Data Ingestion\n",
    "We begin by importing necessary libraries and loading all relevant CSV files into pandas DataFrames. This step ensures we have access to all the data needed for analysis."
   ]
  },
  {
   "cell_type": "code",
   "execution_count": 10,
   "id": "b1c7291b",
   "metadata": {},
   "outputs": [],
   "source": [
    "# Convert all column names to snake_case for each DataFrame\n",
    "def to_snake_case(df):\n",
    "    df.columns = [col.strip().replace(' ', '_').replace('-', '_').lower() for col in df.columns]\n",
    "    return df\n",
    "\n",
    "customer_df = to_snake_case(customer_df)\n",
    "invoice_df = to_snake_case(invoice_df)\n",
    "invoice_line_df = to_snake_case(invoice_line_df)\n",
    "genre_df = to_snake_case(genre_df)\n",
    "track_df = to_snake_case(track_df)"
   ]
  },
  {
   "cell_type": "markdown",
   "id": "9a9f9b2f",
   "metadata": {},
   "source": [
    "## 2. Data Cleaning\n",
    "We standardize all column names to snake_case and ensure consistent naming for ID fields (e.g., `customer_id`). This makes the data easier to work with and reduces errors in later analysis steps."
   ]
  },
  {
   "cell_type": "code",
   "execution_count": 11,
   "id": "46280e91",
   "metadata": {},
   "outputs": [],
   "source": [
    "# Further standardize column names: replace 'id' with '_id' where appropriate\n",
    "def fix_id_columns(df):\n",
    "    df.columns = [col.replace('id', '_id') if col.endswith('id') and not col.endswith('_id') else col for col in df.columns]\n",
    "    return df\n",
    "\n",
    "customer_df = fix_id_columns(customer_df)\n",
    "invoice_df = fix_id_columns(invoice_df)\n",
    "invoice_line_df = fix_id_columns(invoice_line_df)\n",
    "genre_df = fix_id_columns(genre_df)\n",
    "track_df = fix_id_columns(track_df)"
   ]
  },
  {
   "cell_type": "markdown",
   "id": "66ac5748",
   "metadata": {},
   "source": [
    "## 3. Data Integration\n",
    "We merge the tables to create a unified view for analysis. Special care is taken to resolve column name conflicts, such as when both genre and track tables have a `name` column."
   ]
  },
  {
   "cell_type": "code",
   "execution_count": 12,
   "id": "18fefd97",
   "metadata": {},
   "outputs": [
    {
     "name": "stdout",
     "output_type": "stream",
     "text": [
      "Country with most customers: USA (13)\n"
     ]
    }
   ],
   "source": [
    "# 1. Country with the most customers\n",
    "country_counts = customer_df['country'].value_counts()\n",
    "top_country = country_counts.idxmax()\n",
    "top_country_count = country_counts.max()\n",
    "print('Country with most customers:', top_country, f'({top_country_count})')"
   ]
  },
  {
   "cell_type": "markdown",
   "id": "59798039",
   "metadata": {},
   "source": [
    "## 4. Business Insights\n",
    "We answer key business questions using the cleaned and integrated data. Each code cell below calculates and displays a specific metric, such as top customer, revenue by genre, and yearly revenue."
   ]
  },
  {
   "cell_type": "code",
   "execution_count": 13,
   "id": "f77b6a3e",
   "metadata": {},
   "outputs": [
    {
     "name": "stdout",
     "output_type": "stream",
     "text": [
      "Top customer: František Wichterlová - $144.54\n"
     ]
    }
   ],
   "source": [
    "# 2. Customer who spent the most money\n",
    "customer_invoice = pd.merge(invoice_df, customer_df, left_on='customer_id', right_on='customer_id')\n",
    "customer_spending = customer_invoice.groupby(['customer_id', 'first_name', 'last_name'])['total'].sum().reset_index()\n",
    "top_customer = customer_spending.sort_values('total', ascending=False).iloc[0]\n",
    "print('Top customer:', top_customer['first_name'], top_customer['last_name'], f'- ${top_customer[\"total\"]:.2f}')"
   ]
  },
  {
   "cell_type": "code",
   "execution_count": 14,
   "id": "4499198a",
   "metadata": {},
   "outputs": [
    {
     "name": "stdout",
     "output_type": "stream",
     "text": [
      "\n",
      "Revenue by Genre:\n",
      "            name_genre  unit_price\n",
      "15                Rock     2608.65\n",
      "11               Metal      612.81\n",
      "1   Alternative & Punk      487.08\n",
      "10               Latin      165.33\n",
      "13            R&B/Soul      157.41\n",
      "2                Blues      122.76\n",
      "9                 Jazz      119.79\n",
      "0          Alternative      115.83\n",
      "5       Easy Listening       73.26\n",
      "12                 Pop       62.37\n",
      "6    Electronica/Dance       54.45\n",
      "3            Classical       46.53\n",
      "14              Reggae       34.65\n",
      "8          Hip Hop/Rap       32.67\n",
      "7          Heavy Metal        7.92\n",
      "16          Soundtrack        4.95\n",
      "17            TV Shows        1.98\n",
      "4                Drama        0.99\n"
     ]
    }
   ],
   "source": [
    "# 3. Revenue by music genre\n",
    "invoice_line_track = pd.merge(\n",
    "    invoice_line_df, track_df, left_on='track_id', right_on='track_id', suffixes=('', '_track')\n",
    ")\n",
    "invoice_line_track_genre = pd.merge(\n",
    "    invoice_line_track, genre_df, left_on='genre_id', right_on='genre_id', suffixes=('', '_genre')\n",
    ")\n",
    "# Use 'name_genre' for genre name\n",
    "genre_revenue = invoice_line_track_genre.groupby('name_genre')['unit_price'].sum().reset_index().sort_values('unit_price', ascending=False)\n",
    "print('\\nRevenue by Genre:')\n",
    "print(genre_revenue)"
   ]
  },
  {
   "cell_type": "code",
   "execution_count": 15,
   "id": "1e1393d4",
   "metadata": {},
   "outputs": [
    {
     "name": "stdout",
     "output_type": "stream",
     "text": [
      "\n",
      "Average transaction value per customer: $79.82\n"
     ]
    }
   ],
   "source": [
    "# 4. Average transaction value per customer\n",
    "avg_transaction = customer_spending['total'].mean()\n",
    "print('\\nAverage transaction value per customer: $%.2f' % avg_transaction)"
   ]
  },
  {
   "cell_type": "code",
   "execution_count": 16,
   "id": "7bf18e38",
   "metadata": {},
   "outputs": [
    {
     "name": "stdout",
     "output_type": "stream",
     "text": [
      "\n",
      "Total revenue per year:\n",
      "   year    total\n",
      "0  2017  1201.86\n",
      "1  2018  1147.41\n",
      "2  2019  1221.66\n",
      "3  2020  1138.50\n"
     ]
    }
   ],
   "source": [
    "# 5. Total revenue per year\n",
    "invoice_df['invoice_date'] = pd.to_datetime(invoice_df['invoice_date'])\n",
    "invoice_df['year'] = invoice_df['invoice_date'].dt.year\n",
    "yearly_revenue = invoice_df.groupby('year')['total'].sum().reset_index()\n",
    "print('\\nTotal revenue per year:')\n",
    "print(yearly_revenue)"
   ]
  }
 ],
 "metadata": {
  "kernelspec": {
   "display_name": "base",
   "language": "python",
   "name": "python3"
  },
  "language_info": {
   "codemirror_mode": {
    "name": "ipython",
    "version": 3
   },
   "file_extension": ".py",
   "mimetype": "text/x-python",
   "name": "python",
   "nbconvert_exporter": "python",
   "pygments_lexer": "ipython3",
   "version": "3.13.5"
  }
 },
 "nbformat": 4,
 "nbformat_minor": 5
}
